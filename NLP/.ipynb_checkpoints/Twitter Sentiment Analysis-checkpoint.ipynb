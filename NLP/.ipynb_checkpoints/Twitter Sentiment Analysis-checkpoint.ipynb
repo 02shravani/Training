{
 "cells": [
  {
   "cell_type": "markdown",
   "id": "c0e7e79d",
   "metadata": {},
   "source": [
    "## Twitter Sentiment Analysis"
   ]
  },
  {
   "cell_type": "code",
   "execution_count": 24,
   "id": "4dd769d8",
   "metadata": {},
   "outputs": [],
   "source": [
    "import numpy as np \n",
    "import random\n",
    "import pandas as pd \n",
    "import matplotlib.pyplot as plt\n",
    "import seaborn as sns\n",
    "import nltk\n",
    "from textblob import TextBlob\n",
    "import re\n",
    "from nltk.corpus import stopwords\n",
    "from nltk.stem import PorterStemmer\n",
    "from sklearn.model_selection import train_test_split\n",
    "from sklearn.linear_model import LogisticRegression\n",
    "from sklearn.metrics import accuracy_score, classification_report,f1_score,ConfusionMatrixDisplay\n",
    "from sklearn.tree import DecisionTreeClassifier\n",
    "import wordcloud\n",
    "from sklearn.feature_extraction.text import TfidfVectorizer\n",
    "from sklearn.ensemble import RandomForestClassifier,AdaBoostClassifier\n",
    "from prettytable import PrettyTable\n",
    "import warnings\n",
    "warnings.filterwarnings(\"ignore\")"
   ]
  },
  {
   "cell_type": "markdown",
   "id": "9a132d7d",
   "metadata": {},
   "source": [
    "## Load the data"
   ]
  },
  {
   "cell_type": "code",
   "execution_count": 2,
   "id": "355ff2ec",
   "metadata": {},
   "outputs": [],
   "source": [
    "column_names = [ 'id', 'topic', 'sentiment', 'text']\n",
    "df = pd.read_csv('twitter_training.csv',names=column_names)\n",
    "df.drop('id',axis=1,inplace=True)"
   ]
  },
  {
   "cell_type": "code",
   "execution_count": 3,
   "id": "37d0a99f",
   "metadata": {},
   "outputs": [
    {
     "data": {
      "text/html": [
       "<div>\n",
       "<style scoped>\n",
       "    .dataframe tbody tr th:only-of-type {\n",
       "        vertical-align: middle;\n",
       "    }\n",
       "\n",
       "    .dataframe tbody tr th {\n",
       "        vertical-align: top;\n",
       "    }\n",
       "\n",
       "    .dataframe thead th {\n",
       "        text-align: right;\n",
       "    }\n",
       "</style>\n",
       "<table border=\"1\" class=\"dataframe\">\n",
       "  <thead>\n",
       "    <tr style=\"text-align: right;\">\n",
       "      <th></th>\n",
       "      <th>topic</th>\n",
       "      <th>sentiment</th>\n",
       "      <th>text</th>\n",
       "    </tr>\n",
       "  </thead>\n",
       "  <tbody>\n",
       "    <tr>\n",
       "      <th>0</th>\n",
       "      <td>Borderlands</td>\n",
       "      <td>Positive</td>\n",
       "      <td>im getting on borderlands and i will murder yo...</td>\n",
       "    </tr>\n",
       "    <tr>\n",
       "      <th>1</th>\n",
       "      <td>Borderlands</td>\n",
       "      <td>Positive</td>\n",
       "      <td>I am coming to the borders and I will kill you...</td>\n",
       "    </tr>\n",
       "  </tbody>\n",
       "</table>\n",
       "</div>"
      ],
      "text/plain": [
       "         topic sentiment                                               text\n",
       "0  Borderlands  Positive  im getting on borderlands and i will murder yo...\n",
       "1  Borderlands  Positive  I am coming to the borders and I will kill you..."
      ]
     },
     "execution_count": 3,
     "metadata": {},
     "output_type": "execute_result"
    }
   ],
   "source": [
    "df.head(2)"
   ]
  },
  {
   "cell_type": "markdown",
   "id": "a37b776a",
   "metadata": {},
   "source": [
    "## Exploratory Data Analysis"
   ]
  },
  {
   "cell_type": "code",
   "execution_count": 4,
   "id": "ffa44434",
   "metadata": {},
   "outputs": [
    {
     "data": {
      "text/plain": [
       "topic        object\n",
       "sentiment    object\n",
       "text         object\n",
       "dtype: object"
      ]
     },
     "execution_count": 4,
     "metadata": {},
     "output_type": "execute_result"
    }
   ],
   "source": [
    "df.dtypes"
   ]
  },
  {
   "cell_type": "code",
   "execution_count": 5,
   "id": "e2969ce9",
   "metadata": {},
   "outputs": [
    {
     "data": {
      "text/plain": [
       "Negative      22542\n",
       "Positive      20832\n",
       "Neutral       18318\n",
       "Irrelevant    12990\n",
       "Name: sentiment, dtype: int64"
      ]
     },
     "execution_count": 5,
     "metadata": {},
     "output_type": "execute_result"
    }
   ],
   "source": [
    "df['sentiment'].value_counts()"
   ]
  },
  {
   "cell_type": "code",
   "execution_count": 6,
   "id": "06cb4b03",
   "metadata": {},
   "outputs": [
    {
     "data": {
      "text/plain": [
       "topic        0.000000\n",
       "sentiment    0.000000\n",
       "text         0.918561\n",
       "dtype: float64"
      ]
     },
     "execution_count": 6,
     "metadata": {},
     "output_type": "execute_result"
    }
   ],
   "source": [
    "df.isnull().sum()/len(df)*100"
   ]
  },
  {
   "cell_type": "code",
   "execution_count": 7,
   "id": "1f7c63f2",
   "metadata": {},
   "outputs": [],
   "source": [
    "# Remove rows where 'text' column is null\n",
    "df.dropna(subset=['text'], inplace=True)"
   ]
  },
  {
   "cell_type": "code",
   "execution_count": 8,
   "id": "2a8eff98",
   "metadata": {},
   "outputs": [
    {
     "data": {
      "image/png": "[encoded data removed]",
      "text/plain": [
       "<Figure size 864x720 with 1 Axes>"
      ]
     },
     "metadata": {
      "needs_background": "light"
     },
     "output_type": "display_data"
    }
   ],
   "source": [
    "fig, ax = plt.subplots(figsize=(12, 10)) \n",
    "sns.countplot(x='sentiment', data=df, ax=ax)  \n",
    "plt.show()"
   ]
  },
  {
   "cell_type": "markdown",
   "id": "8eabd3dc",
   "metadata": {},
   "source": [
    "## Text Preprocessing"
   ]
  },
  {
   "cell_type": "code",
   "execution_count": 6,
   "id": "a6661c99",
   "metadata": {},
   "outputs": [
    {
     "name": "stdout",
     "output_type": "stream",
     "text": [
      "                                                text  \\\n",
      "0  im getting on borderlands and i will murder yo...   \n",
      "1  I am coming to the borders and I will kill you...   \n",
      "2  im getting on borderlands and i will kill you ...   \n",
      "3  im coming on borderlands and i will murder you...   \n",
      "4  im getting on borderlands 2 and i will murder ...   \n",
      "\n",
      "                                   preprocessed_text  \n",
      "0  [im, getting, on, borderlands, and, i, will, m...  \n",
      "1  [i, am, coming, to, the, borders, and, i, will...  \n",
      "2  [im, getting, on, borderlands, and, i, will, k...  \n",
      "3  [im, coming, on, borderlands, and, i, will, mu...  \n",
      "4  [im, getting, on, borderlands, and, i, will, m...  \n"
     ]
    }
   ],
   "source": [
    "stemmer = PorterStemmer()\n",
    "stop_words = set(stopwords.words('english'))\n",
    "\n",
    "\n",
    "def preprocess_txt(text):\n",
    "    if pd.isna(text):  # Handle NaN values\n",
    "        return \"\"\n",
    "    text = re.sub(r'[^a-zA-Z\\s]', '', text, flags=re.I|re.A)  # Remove non-alphabetic characters\n",
    "    text = text.lower()  # Convert to lowercase\n",
    "    tokens = text.split()  # Tokenize\n",
    "    return tokens\n",
    "\n",
    "df['preprocessed_text'] = df['text'].apply(preprocess_txt)\n",
    "print(df[['text', 'preprocessed_text']].head())"
   ]
  },
  {
   "cell_type": "code",
   "execution_count": 9,
   "id": "e4643454",
   "metadata": {},
   "outputs": [
    {
     "name": "stdout",
     "output_type": "stream",
     "text": [
      "             topic sentiment  \\\n",
      "0      Borderlands  Positive   \n",
      "1      Borderlands  Positive   \n",
      "2      Borderlands  Positive   \n",
      "3      Borderlands  Positive   \n",
      "4      Borderlands  Positive   \n",
      "...            ...       ...   \n",
      "74677       Nvidia  Positive   \n",
      "74678       Nvidia  Positive   \n",
      "74679       Nvidia  Positive   \n",
      "74680       Nvidia  Positive   \n",
      "74681       Nvidia  Positive   \n",
      "\n",
      "                                                    text  \\\n",
      "0      im getting on borderlands and i will murder yo...   \n",
      "1      I am coming to the borders and I will kill you...   \n",
      "2      im getting on borderlands and i will kill you ...   \n",
      "3      im coming on borderlands and i will murder you...   \n",
      "4      im getting on borderlands 2 and i will murder ...   \n",
      "...                                                  ...   \n",
      "74677  Just realized that the Windows partition of my...   \n",
      "74678  Just realized that my Mac window partition is ...   \n",
      "74679  Just realized the windows partition of my Mac ...   \n",
      "74680  Just realized between the windows partition of...   \n",
      "74681  Just like the windows partition of my Mac is l...   \n",
      "\n",
      "                                           text_adjusted  \n",
      "0                         im getting borderland murder ,  \n",
      "1                                   coming border kill ,  \n",
      "2                           im getting borderland kill ,  \n",
      "3                          im coming borderland murder ,  \n",
      "4                       im getting borderland 2 murder ,  \n",
      "...                                                  ...  \n",
      "74677  realized window partition mac like 6 year behi...  \n",
      "74678  realized mac window partition 6 year behind nv...  \n",
      "74679  realized window partition mac 6 year behind nv...  \n",
      "74680  realized window partition mac like 6 year behi...  \n",
      "74681  like window partition mac like 6 year behind d...  \n",
      "\n",
      "[73996 rows x 4 columns]\n"
     ]
    }
   ],
   "source": [
    "import string\n",
    "from nltk.tokenize import word_tokenize\n",
    "from nltk.corpus import stopwords\n",
    "from nltk.stem import WordNetLemmatizer\n",
    "\n",
    "\n",
    "def preprocess_text_adjusted(text):\n",
    "    # Lowercasing\n",
    "    text = text.lower()\n",
    "    \n",
    "    # Remove special characters and digits, punctuation\n",
    "    text = ''.join(char for char in text if char.isalnum() or char.isspace() or char in ['!', '?', ','])\n",
    "    \n",
    "    # Tokenization\n",
    "    words = word_tokenize(text)\n",
    "    \n",
    "    # Remove stopwords\n",
    "    stop_words = set(stopwords.words('english'))\n",
    "    words = [word for word in words if word not in stop_words]\n",
    "    \n",
    "    # lemmatizing\n",
    "    lemmatizer = WordNetLemmatizer()\n",
    "    words = [lemmatizer.lemmatize(word) for word in words]\n",
    "    # Join the processed words back into a sentence\n",
    "    processed_text = ' '.join(words)\n",
    "    \n",
    "    return processed_text\n",
    "df['text_adjusted'] = df['text'].apply(preprocess_text_adjusted)\n",
    "print(df)    # applying the above created function to the given text"
   ]
  },
  {
   "cell_type": "code",
   "execution_count": 10,
   "id": "60706331",
   "metadata": {},
   "outputs": [
    {
     "data": {
      "text/html": [
       "<div>\n",
       "<style scoped>\n",
       "    .dataframe tbody tr th:only-of-type {\n",
       "        vertical-align: middle;\n",
       "    }\n",
       "\n",
       "    .dataframe tbody tr th {\n",
       "        vertical-align: top;\n",
       "    }\n",
       "\n",
       "    .dataframe thead th {\n",
       "        text-align: right;\n",
       "    }\n",
       "</style>\n",
       "<table border=\"1\" class=\"dataframe\">\n",
       "  <thead>\n",
       "    <tr style=\"text-align: right;\">\n",
       "      <th></th>\n",
       "      <th>topic</th>\n",
       "      <th>sentiment</th>\n",
       "      <th>text</th>\n",
       "      <th>text_adjusted</th>\n",
       "    </tr>\n",
       "  </thead>\n",
       "  <tbody>\n",
       "    <tr>\n",
       "      <th>0</th>\n",
       "      <td>Borderlands</td>\n",
       "      <td>Positive</td>\n",
       "      <td>im getting on borderlands and i will murder yo...</td>\n",
       "      <td>im getting borderland murder ,</td>\n",
       "    </tr>\n",
       "    <tr>\n",
       "      <th>1</th>\n",
       "      <td>Borderlands</td>\n",
       "      <td>Positive</td>\n",
       "      <td>I am coming to the borders and I will kill you...</td>\n",
       "      <td>coming border kill ,</td>\n",
       "    </tr>\n",
       "    <tr>\n",
       "      <th>2</th>\n",
       "      <td>Borderlands</td>\n",
       "      <td>Positive</td>\n",
       "      <td>im getting on borderlands and i will kill you ...</td>\n",
       "      <td>im getting borderland kill ,</td>\n",
       "    </tr>\n",
       "    <tr>\n",
       "      <th>3</th>\n",
       "      <td>Borderlands</td>\n",
       "      <td>Positive</td>\n",
       "      <td>im coming on borderlands and i will murder you...</td>\n",
       "      <td>im coming borderland murder ,</td>\n",
       "    </tr>\n",
       "    <tr>\n",
       "      <th>4</th>\n",
       "      <td>Borderlands</td>\n",
       "      <td>Positive</td>\n",
       "      <td>im getting on borderlands 2 and i will murder ...</td>\n",
       "      <td>im getting borderland 2 murder ,</td>\n",
       "    </tr>\n",
       "    <tr>\n",
       "      <th>...</th>\n",
       "      <td>...</td>\n",
       "      <td>...</td>\n",
       "      <td>...</td>\n",
       "      <td>...</td>\n",
       "    </tr>\n",
       "    <tr>\n",
       "      <th>74677</th>\n",
       "      <td>Nvidia</td>\n",
       "      <td>Positive</td>\n",
       "      <td>Just realized that the Windows partition of my...</td>\n",
       "      <td>realized window partition mac like 6 year behi...</td>\n",
       "    </tr>\n",
       "    <tr>\n",
       "      <th>74678</th>\n",
       "      <td>Nvidia</td>\n",
       "      <td>Positive</td>\n",
       "      <td>Just realized that my Mac window partition is ...</td>\n",
       "      <td>realized mac window partition 6 year behind nv...</td>\n",
       "    </tr>\n",
       "    <tr>\n",
       "      <th>74679</th>\n",
       "      <td>Nvidia</td>\n",
       "      <td>Positive</td>\n",
       "      <td>Just realized the windows partition of my Mac ...</td>\n",
       "      <td>realized window partition mac 6 year behind nv...</td>\n",
       "    </tr>\n",
       "    <tr>\n",
       "      <th>74680</th>\n",
       "      <td>Nvidia</td>\n",
       "      <td>Positive</td>\n",
       "      <td>Just realized between the windows partition of...</td>\n",
       "      <td>realized window partition mac like 6 year behi...</td>\n",
       "    </tr>\n",
       "    <tr>\n",
       "      <th>74681</th>\n",
       "      <td>Nvidia</td>\n",
       "      <td>Positive</td>\n",
       "      <td>Just like the windows partition of my Mac is l...</td>\n",
       "      <td>like window partition mac like 6 year behind d...</td>\n",
       "    </tr>\n",
       "  </tbody>\n",
       "</table>\n",
       "<p>73996 rows × 4 columns</p>\n",
       "</div>"
      ],
      "text/plain": [
       "             topic sentiment  \\\n",
       "0      Borderlands  Positive   \n",
       "1      Borderlands  Positive   \n",
       "2      Borderlands  Positive   \n",
       "3      Borderlands  Positive   \n",
       "4      Borderlands  Positive   \n",
       "...            ...       ...   \n",
       "74677       Nvidia  Positive   \n",
       "74678       Nvidia  Positive   \n",
       "74679       Nvidia  Positive   \n",
       "74680       Nvidia  Positive   \n",
       "74681       Nvidia  Positive   \n",
       "\n",
       "                                                    text  \\\n",
       "0      im getting on borderlands and i will murder yo...   \n",
       "1      I am coming to the borders and I will kill you...   \n",
       "2      im getting on borderlands and i will kill you ...   \n",
       "3      im coming on borderlands and i will murder you...   \n",
       "4      im getting on borderlands 2 and i will murder ...   \n",
       "...                                                  ...   \n",
       "74677  Just realized that the Windows partition of my...   \n",
       "74678  Just realized that my Mac window partition is ...   \n",
       "74679  Just realized the windows partition of my Mac ...   \n",
       "74680  Just realized between the windows partition of...   \n",
       "74681  Just like the windows partition of my Mac is l...   \n",
       "\n",
       "                                           text_adjusted  \n",
       "0                         im getting borderland murder ,  \n",
       "1                                   coming border kill ,  \n",
       "2                           im getting borderland kill ,  \n",
       "3                          im coming borderland murder ,  \n",
       "4                       im getting borderland 2 murder ,  \n",
       "...                                                  ...  \n",
       "74677  realized window partition mac like 6 year behi...  \n",
       "74678  realized mac window partition 6 year behind nv...  \n",
       "74679  realized window partition mac 6 year behind nv...  \n",
       "74680  realized window partition mac like 6 year behi...  \n",
       "74681  like window partition mac like 6 year behind d...  \n",
       "\n",
       "[73996 rows x 4 columns]"
      ]
     },
     "execution_count": 10,
     "metadata": {},
     "output_type": "execute_result"
    }
   ],
   "source": [
    "df"
   ]
  },
  {
   "cell_type": "markdown",
   "id": "1bd7559c",
   "metadata": {},
   "source": [
    "## Model Building"
   ]
  },
  {
   "cell_type": "markdown",
   "id": "d290169b",
   "metadata": {},
   "source": [
    "## Logistic Regression"
   ]
  },
  {
   "cell_type": "code",
   "execution_count": 13,
   "id": "36552d55",
   "metadata": {},
   "outputs": [
    {
     "name": "stdout",
     "output_type": "stream",
     "text": [
      "Accuracy: 0.763142483895671\n",
      "Classification Report:               precision    recall  f1-score   support\n",
      "\n",
      "  Irrelevant       0.80      0.63      0.70      3809\n",
      "    Negative       0.79      0.83      0.80      6718\n",
      "     Neutral       0.73      0.74      0.74      5468\n",
      "    Positive       0.75      0.80      0.77      6204\n",
      "\n",
      "    accuracy                           0.76     22199\n",
      "   macro avg       0.77      0.75      0.75     22199\n",
      "weighted avg       0.76      0.76      0.76     22199\n",
      "\n"
     ]
    },
    {
     "data": {
      "text/plain": [
       "<sklearn.metrics._plot.confusion_matrix.ConfusionMatrixDisplay at 0x19b5136d130>"
      ]
     },
     "execution_count": 13,
     "metadata": {},
     "output_type": "execute_result"
    },
    {
     "data": {
      "image/png": "[encoded data removed]",
      "text/plain": [
       "<Figure size 432x288 with 2 Axes>"
      ]
     },
     "metadata": {
      "needs_background": "light"
     },
     "output_type": "display_data"
    }
   ],
   "source": [
    "# TF-IDF vectorization\n",
    "\n",
    "text_data = df['text_adjusted']\n",
    "tfidf_vectorizer = TfidfVectorizer()\n",
    "X_tfidf = tfidf_vectorizer.fit_transform(text_data)\n",
    "\n",
    "# train test split\n",
    "\n",
    "xtrain, xtest, ytrain, ytest = train_test_split(X_tfidf, df['sentiment'], test_size=0.3, random_state=7)\n",
    "\n",
    "# fitting the model\n",
    "\n",
    "model = LogisticRegression()\n",
    "model.fit(xtrain, ytrain)\n",
    "predictions = model.predict(xtest)\n",
    "\n",
    "# model evaluation\n",
    "\n",
    "accuracy_lr = accuracy_score(ytest, predictions)\n",
    "classification_report_result = classification_report(ytest, predictions)\n",
    "\n",
    "print(\"Accuracy:\", accuracy_lr)\n",
    "print(\"Classification Report:\", classification_report_result)\n",
    "ConfusionMatrixDisplay.from_predictions(ytest,predictions)"
   ]
  },
  {
   "cell_type": "markdown",
   "id": "7e24e91a",
   "metadata": {},
   "source": [
    "## Random Forest"
   ]
  },
  {
   "cell_type": "code",
   "execution_count": 19,
   "id": "7ef28cd7",
   "metadata": {},
   "outputs": [
    {
     "name": "stdout",
     "output_type": "stream",
     "text": [
      "Accuracy: 0.901121672147394\n",
      "Classification Report:\n",
      "               precision    recall  f1-score   support\n",
      "\n",
      "  Irrelevant       0.96      0.83      0.89      3809\n",
      "    Negative       0.91      0.93      0.92      6718\n",
      "     Neutral       0.92      0.88      0.90      5468\n",
      "    Positive       0.85      0.94      0.89      6204\n",
      "\n",
      "    accuracy                           0.90     22199\n",
      "   macro avg       0.91      0.89      0.90     22199\n",
      "weighted avg       0.90      0.90      0.90     22199\n",
      "\n"
     ]
    },
    {
     "data": {
      "image/png": "[encoded data removed]",
      "text/plain": [
       "<Figure size 576x432 with 2 Axes>"
      ]
     },
     "metadata": {
      "needs_background": "light"
     },
     "output_type": "display_data"
    }
   ],
   "source": [
    "# Initialize and train the model\n",
    "model = RandomForestClassifier()\n",
    "model.fit(xtrain, ytrain)\n",
    "\n",
    "# Predictions\n",
    "predictions = model.predict(xtest)\n",
    "\n",
    "# Model evaluation\n",
    "accuracy_rf = accuracy_score(ytest, predictions)\n",
    "classification_report_result = classification_report(ytest, predictions)\n",
    "\n",
    "print(\"Accuracy:\", accuracy_rf)\n",
    "print(\"Classification Report:\\n\", classification_report_result)\n",
    "\n",
    "# Compute confusion matrix\n",
    "cm = confusion_matrix(ytest, predictions)\n",
    "\n",
    "# Display confusion matrix\n",
    "disp = ConfusionMatrixDisplay(confusion_matrix=cm, display_labels=model.classes_)\n",
    "fig, ax = plt.subplots(figsize=(8, 6))\n",
    "disp.plot(ax=ax, cmap=plt.cm.Blues, xticks_rotation='vertical')\n",
    "plt.show()"
   ]
  },
  {
   "cell_type": "markdown",
   "id": "1d25a99e",
   "metadata": {},
   "source": [
    "## Ada Boost"
   ]
  },
  {
   "cell_type": "code",
   "execution_count": 23,
   "id": "6a58482a",
   "metadata": {},
   "outputs": [
    {
     "name": "stdout",
     "output_type": "stream",
     "text": [
      "Accuracy: 0.45164196585431776\n",
      "Classification Report:\n",
      "               precision    recall  f1-score   support\n",
      "\n",
      "  Irrelevant       0.51      0.11      0.18      3809\n",
      "    Negative       0.39      0.79      0.52      6718\n",
      "     Neutral       0.52      0.31      0.39      5468\n",
      "    Positive       0.59      0.42      0.49      6204\n",
      "\n",
      "    accuracy                           0.45     22199\n",
      "   macro avg       0.50      0.41      0.39     22199\n",
      "weighted avg       0.50      0.45      0.42     22199\n",
      "\n"
     ]
    },
    {
     "data": {
      "image/png": "[encoded data removed]",
      "text/plain": [
       "<Figure size 576x432 with 2 Axes>"
      ]
     },
     "metadata": {
      "needs_background": "light"
     },
     "output_type": "display_data"
    }
   ],
   "source": [
    "# Initialize and train the model\n",
    "base_estimator = DecisionTreeClassifier(max_depth=1)\n",
    "model = AdaBoostClassifier(base_estimator=base_estimator, n_estimators=50, learning_rate=1.0)\n",
    "model.fit(xtrain, ytrain)\n",
    "\n",
    "# Predictions\n",
    "predictions = model.predict(xtest)\n",
    "\n",
    "# Model evaluation\n",
    "accuracy_rf = accuracy_score(ytest, predictions)\n",
    "classification_report_result = classification_report(ytest, predictions)\n",
    "\n",
    "print(\"Accuracy:\", accuracy_rf)\n",
    "print(\"Classification Report:\\n\", classification_report_result)\n",
    "\n",
    "# Compute confusion matrix\n",
    "cm = confusion_matrix(ytest, predictions)\n",
    "\n",
    "# Display confusion matrix\n",
    "disp = ConfusionMatrixDisplay(confusion_matrix=cm, display_labels=model.classes_)\n",
    "fig, ax = plt.subplots(figsize=(8, 6))\n",
    "disp.plot(ax=ax, cmap=plt.cm.Blues, xticks_rotation='vertical')\n",
    "plt.show()"
   ]
  },
  {
   "cell_type": "markdown",
   "id": "01cf6808",
   "metadata": {},
   "source": [
    "## PrettyTable"
   ]
  },
  {
   "cell_type": "code",
   "execution_count": 25,
   "id": "0f25cc02",
   "metadata": {},
   "outputs": [
    {
     "name": "stdout",
     "output_type": "stream",
     "text": [
      "+---------------------+------------------+------------------+------------------+------------------+\n",
      "|      Model_Name     | F1_Score_Class_0 | F1_Score_Class_1 | F1_Score_Class_2 | F1_Score_Class_3 |\n",
      "+---------------------+------------------+------------------+------------------+------------------+\n",
      "| Logistic Regression |        70        |        80        |        74        |        77        |\n",
      "|    Random Forest    |        89        |        92        |        90        |        89        |\n",
      "|    Gradient Boost   |        18        |        52        |        39        |        42        |\n",
      "+---------------------+------------------+------------------+------------------+------------------+\n"
     ]
    }
   ],
   "source": [
    "table = PrettyTable()\n",
    "table.field_names = ['Model_Name', 'F1_Score_Class_0', 'F1_Score_Class_1','F1_Score_Class_2','F1_Score_Class_3']\n",
    "table.add_row(['Logistic Regression', 70, 80,74,77])\n",
    "table.add_row(['Random Forest', 89, 92,90,89])\n",
    "table.add_row(['Gradient Boost', 18, 52,39,42])\n",
    "print(table)"
   ]
  },
  {
   "cell_type": "code",
   "execution_count": null,
   "id": "185a7925",
   "metadata": {},
   "outputs": [],
   "source": []
  }
 ],
 "metadata": {
  "kernelspec": {
   "display_name": "Python 3 (ipykernel)",
   "language": "python",
   "name": "python3"
  },
  "language_info": {
   "codemirror_mode": {
    "name": "ipython",
    "version": 3
   },
   "file_extension": ".py",
   "mimetype": "text/x-python",
   "name": "python",
   "nbconvert_exporter": "python",
   "pygments_lexer": "ipython3",
   "version": "3.9.12"
  }
 },
 "nbformat": 4,
 "nbformat_minor": 5
}
